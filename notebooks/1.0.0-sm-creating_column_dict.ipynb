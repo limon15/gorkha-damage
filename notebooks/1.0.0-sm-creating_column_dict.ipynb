{
 "cells": [
  {
   "cell_type": "code",
   "execution_count": 1,
   "metadata": {},
   "outputs": [],
   "source": [
    "import pandas as pd\n",
    "import json\n",
    "\n",
    "from src.constants import *"
   ]
  },
  {
   "cell_type": "code",
   "execution_count": 2,
   "metadata": {},
   "outputs": [],
   "source": [
    "train_values = pd.read_csv('../'+PATH_DATA_RAW+'train_values.csv', dtype = COLUMN_DTYPE)"
   ]
  },
  {
   "cell_type": "markdown",
   "metadata": {},
   "source": [
    "### Construyo un diccionario de datos para las columnas del dataset train_values"
   ]
  },
  {
   "cell_type": "code",
   "execution_count": null,
   "metadata": {},
   "outputs": [],
   "source": [
    "#COLUMN_DIC = {v:[k] for k,v in enumerate(train_values.columns.tolist())}"
   ]
  },
  {
   "cell_type": "code",
   "execution_count": null,
   "metadata": {},
   "outputs": [],
   "source": [
    "info = \"\"\"\n",
    "building_id (tipo: ID): identificador único de la edificación.\n",
    "geo_level_1_id, geo_level_2_id, geo_level_3_id (tipo: enteros): región geográfica en la cual la edificación existe, desde la más general (level 1) a la más específica (level 3). Valores posibles:\n",
    " level 1: 0-30, \n",
    "level 2: 0-1427, \n",
    "level 3: 0-12567.\n",
    "count_floors_pre_eq (tipo: entero): número de pisos en la edificación antes del terremoto.\n",
    "age (tipo: entero): antigüedad de la edificación en años.\n",
    "area_percentage (tipo: entero): superficie normalizada ocupada por la edificación.\n",
    "height_percentage (tipo: entero): altura normalizada ocupada por la edificación.\n",
    "land_surface_condition (tipo: categórico): condición de la superficie terrestre donde el edificio fue construido. Valores posibles: n, o, t.\n",
    "foundation_type (tipo: categórico): tipo de cimientos usados cuando se construyó la edificación. Valores posibles: h, i, r, u, w.\n",
    "roof_type (tipo: categórico): tipo de techo usado cuando se construyó la edificación. Valores posibles: n, q, x.\n",
    "ground_floor_type (tipo: categórico): tipo de construcción usado en la planta baja cuando se construyó la edificación. Valores posibles: f, m, v, x, z.\n",
    "other_floor_type (tipo: categorical): tipo de construcción usado en otros pisos cuando se construyó la edificación (exceptuando el techo). Posibles valores: j, q, s, x.\n",
    "position (tipo: categórico): orientación de la edificación. Posibles valores: j, o, s, t.\n",
    "plan_configuration (tipo: categórico): formato de construcción de la edificación (para diseño sísmico). Valores posibles: a, c, d, f, m, n, o, q, s, u.\n",
    "has_superstructure_adobe_mud (tipo: binario): variable que indica si la edificación fue construida con adobe/barro.\n",
    "has_superstructure_mud_mortar_stone (tipo: binario):  variable que indica si la edificación fue construida con barro - piedra.\n",
    "has_superstructure_stone_flag (tipo: binario):  variable que indica si la edificación fue construida con piedra.\n",
    "has_superstructure_cement_mortar_stone (tipo: binario):  variable que indica si la edificación fue construida con cemento - piedra.\n",
    "has_superstructure_mud_mortar_brick (tipo: binario):  variable que indica si la edificación fue construida con barro - ladrillos.\n",
    "has_superstructure_cement_mortar_brick (tipo: binario):  variable que indica si la edificación fue construida con cemento - ladrillos.\n",
    "has_superstructure_timber (tipo: binario):  variable que indica si la edificación fue construida con Timber (madera específica para la construcción).\n",
    "has_superstructure_bamboo (tipo: binario):  variable que indica si la edificación fue construida con Bambú (caña).\n",
    "has_superstructure_rc_non_engineered (tipo: binario): variable que indica si la edificación fue construida con concreto reforzado no-diseñado.\n",
    "has_superstructure_rc_engineered (tipo: binario): variable que indica si la edificación fue construida con concreto reforzado diseñado.\n",
    "has_superstructure_other (tipo: binario): variable que indica si la edificación fue construida con otro material.\n",
    "legal_ownership_status (tipo: categórico): estado legal de la tierra donde la edificación fue construida. Valores posibles: a, r, v, w.\n",
    "count_families (tipo: entero): número de familias que vivían en la edificación.\n",
    "has_secondary_use (tipo: binario): variable que indica si la edificación era usada con un uso secundario.\n",
    "has_secondary_use_agriculture (tipo: binario): variable que indica si la edificación era usada con propósitos de agricultura.\n",
    "has_secondary_use_hotel (tipo: binario): variable que indica si la edificación era usada como oficina de gobierno.\n",
    "has_secondary_use_rental (tipo: binario): variable que indica si la edificación se alquilaba.\n",
    "has_secondary_use_institution (tipo: binario): variable que indica si la edificación era usada como sede de una institución.\n",
    "has_secondary_use_school (tipo: binario): variable que indica si la edificación era usada como escuela.\n",
    "has_secondary_use_industry (tipo: binario): variable que indica si la edificación era usada con propósitos industriales.\n",
    "has_secondary_use_health_post (tipo: binario): variable que indica si la edificación era usada como puesto de salud.\n",
    "has_secondary_use_gov_office (tipo: binario): variable que indica si la edificación era usada como oficina de gobierno.\n",
    "has_secondary_use_use_police (tipo: binario): variable que indica si la edificación era usada como estación de policía.\n",
    "has_secondary_use_other (tipo: binario): variable que indica si la edificación era usada con otro uso secundario.\n",
    "\"\"\".split(\"\\n\")"
   ]
  },
  {
   "cell_type": "code",
   "execution_count": null,
   "metadata": {},
   "outputs": [],
   "source": [
    "COLUMN_DICT = {c.split(\" \")[0]: (\" \").join(c.split(\":\")[2:]).strip() for c in info if c.split(\" \")[0] in train_values.columns}\n",
    "COLUMN_DICT"
   ]
  },
  {
   "cell_type": "markdown",
   "metadata": {},
   "source": [
    "#### Veo cuáles son las columnas que no estan en el diccionario de columnas pero si en la documentacion/dataset"
   ]
  },
  {
   "cell_type": "code",
   "execution_count": null,
   "metadata": {},
   "outputs": [],
   "source": [
    "col_not_in_dict = [c for c in train_values.columns if c not in list(COLUMN_DICT.keys())]\n",
    "col_not_in_dict"
   ]
  },
  {
   "cell_type": "code",
   "execution_count": null,
   "metadata": {},
   "outputs": [],
   "source": [
    "info_col_not_in_dict = (info[2].split(\",\")[2].split(\":\")[-1]+info[2].split(\",\")[3]).strip()+\"level 1: 0-30, level 2: 0-1427, level 3: 0-12567.\"\n",
    "info_col_not_in_dict"
   ]
  },
  {
   "cell_type": "code",
   "execution_count": null,
   "metadata": {},
   "outputs": [],
   "source": [
    "for c in col_not_in_dict:\n",
    "    COLUMN_DICT[c] = info_col_not_in_dict"
   ]
  },
  {
   "cell_type": "code",
   "execution_count": null,
   "metadata": {},
   "outputs": [],
   "source": [
    "len(COLUMN_DICT)"
   ]
  },
  {
   "cell_type": "markdown",
   "metadata": {},
   "source": [
    "### Guardo diccionario de datos en json"
   ]
  },
  {
   "cell_type": "code",
   "execution_count": null,
   "metadata": {},
   "outputs": [],
   "source": [
    "import json"
   ]
  },
  {
   "cell_type": "code",
   "execution_count": null,
   "metadata": {},
   "outputs": [],
   "source": [
    "with open('../'+PATH_DATA_PROCESSED+\"column_dictionary.txt\",\"w\") as outfile:\n",
    "    json.dump(COLUMN_DICT, outfile)   \n"
   ]
  },
  {
   "cell_type": "markdown",
   "metadata": {},
   "source": [
    "### Abro archivo para probar leerlo, consultarlo"
   ]
  },
  {
   "cell_type": "code",
   "execution_count": null,
   "metadata": {},
   "outputs": [],
   "source": [
    "with open('../'+PATH_DATA_PROCESSED+\"column_dictionary.txt\") as json_file:\n",
    "    data = json.load(json_file)\n",
    "    print(data.get('age'))"
   ]
  },
  {
   "cell_type": "code",
   "execution_count": null,
   "metadata": {},
   "outputs": [],
   "source": [
    "with open('../'+PATH_DATA_PROCESSED+\"column_dictionary.txt\") as json_file:\n",
    "    data = json.load(json_file)\n",
    "    for k,v in data.items():\n",
    "        print(k,v)"
   ]
  }
 ],
 "metadata": {
  "kernelspec": {
   "display_name": "gorkha-env",
   "language": "python",
   "name": "gorkha-env"
  },
  "language_info": {
   "codemirror_mode": {
    "name": "ipython",
    "version": 3
   },
   "file_extension": ".py",
   "mimetype": "text/x-python",
   "name": "python",
   "nbconvert_exporter": "python",
   "pygments_lexer": "ipython3",
   "version": "3.7.5"
  }
 },
 "nbformat": 4,
 "nbformat_minor": 4
}
