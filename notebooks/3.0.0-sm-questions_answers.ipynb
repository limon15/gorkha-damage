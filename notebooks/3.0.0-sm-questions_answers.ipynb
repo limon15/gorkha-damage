{
 "cells": [
  {
   "cell_type": "code",
   "execution_count": null,
   "metadata": {},
   "outputs": [],
   "source": [
    "import pandas as pd\n",
    "#import matplotlib.pyplot as plt\n",
    "\n",
    "#from src.visualizations import *\n",
    "from src.constants import *"
   ]
  },
  {
   "cell_type": "code",
   "execution_count": null,
   "metadata": {},
   "outputs": [],
   "source": [
    "pd.set_option('display.max_columns', None)\n",
    "pd.set_option('display.max_colwidth', 1000)"
   ]
  },
  {
   "cell_type": "code",
   "execution_count": null,
   "metadata": {},
   "outputs": [],
   "source": [
    "train_values = pd.read_csv('../'+PATH_DATA_RAW+'train_values.csv', dtype = COLUMN_DTYPE)"
   ]
  },
  {
   "cell_type": "markdown",
   "metadata": {},
   "source": [
    "## 1) ¿Las edificaciones con 995 años de edad pertenecen a la misma area?"
   ]
  },
  {
   "cell_type": "code",
   "execution_count": null,
   "metadata": {},
   "outputs": [],
   "source": [
    "len(train_values)"
   ]
  },
  {
   "cell_type": "code",
   "execution_count": null,
   "metadata": {},
   "outputs": [],
   "source": [
    "area_1 = train_values.loc[train_values['age'] == 995].geo_level_1_id.value_counts().to_frame().reset_index().rename(columns={'index': 'geo_level_1_id', 'geo_level_1_id':'total'})\n",
    "area_1['rate'] = (area_1.total/area_1.total.sum())*100"
   ]
  },
  {
   "cell_type": "code",
   "execution_count": null,
   "metadata": {},
   "outputs": [],
   "source": [
    "area_1"
   ]
  },
  {
   "cell_type": "code",
   "execution_count": null,
   "metadata": {},
   "outputs": [],
   "source": [
    "area_2 = train_values.loc[(train_values['age'] == 995) & (train_values['geo_level_1_id'] == 6)].geo_level_2_id.value_counts().to_frame().reset_index().rename(columns={'index': 'geo_level_2_id', 'geo_level_2_id':'total'})\n",
    "area_2['rate'] = (area_2.total/area_2.total.sum())*100"
   ]
  },
  {
   "cell_type": "code",
   "execution_count": null,
   "metadata": {},
   "outputs": [],
   "source": [
    "area_2"
   ]
  },
  {
   "cell_type": "code",
   "execution_count": null,
   "metadata": {},
   "outputs": [],
   "source": [
    "area_3 = train_values.loc[(train_values['age'] == 995) & (train_values['geo_level_1_id'] == 6) & (train_values['geo_level_2_id'] == 1002)].geo_level_3_id.value_counts().to_frame().reset_index().rename(columns={'index': 'geo_level_3_id', 'geo_level_3_id':'total'})\n",
    "area_3['rate'] = (area_3.total/area_3.total.sum())*100"
   ]
  },
  {
   "cell_type": "code",
   "execution_count": null,
   "metadata": {},
   "outputs": [],
   "source": [
    "area_3"
   ]
  },
  {
   "cell_type": "code",
   "execution_count": null,
   "metadata": {},
   "outputs": [],
   "source": [
    "train_values.land_surface_condition.value_counts()"
   ]
  },
  {
   "cell_type": "code",
   "execution_count": null,
   "metadata": {},
   "outputs": [],
   "source": [
    "train_values.loc[(train_values['age'] == 995)].groupby([''])"
   ]
  },
  {
   "cell_type": "code",
   "execution_count": null,
   "metadata": {},
   "outputs": [],
   "source": [
    "train_values.loc[(train_values['age'] == 995)].land_surface_condition.value_counts()"
   ]
  },
  {
   "cell_type": "markdown",
   "metadata": {},
   "source": [
    "## Area"
   ]
  },
  {
   "cell_type": "code",
   "execution_count": null,
   "metadata": {},
   "outputs": [],
   "source": [
    "train_values.area_percentage.value_counts()"
   ]
  },
  {
   "cell_type": "code",
   "execution_count": null,
   "metadata": {},
   "outputs": [],
   "source": [
    "train_values[train_values['area_percentage'] == 100]"
   ]
  },
  {
   "cell_type": "code",
   "execution_count": null,
   "metadata": {},
   "outputs": [],
   "source": [
    "train_values[train_values['area_percentage'] == 100][['building_id', 'count_floors_pre_eq', 'area_percentage', 'height_percentage', 'has_secondary_use_hotel', 'has_secondary_use', 'count_families']]"
   ]
  }
 ],
 "metadata": {
  "kernelspec": {
   "display_name": "gorkha-env",
   "language": "python",
   "name": "gorkha-env"
  },
  "language_info": {
   "codemirror_mode": {
    "name": "ipython",
    "version": 3
   },
   "file_extension": ".py",
   "mimetype": "text/x-python",
   "name": "python",
   "nbconvert_exporter": "python",
   "pygments_lexer": "ipython3",
   "version": "3.7.5"
  }
 },
 "nbformat": 4,
 "nbformat_minor": 4
}
