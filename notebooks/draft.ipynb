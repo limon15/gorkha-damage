{
 "cells": [
  {
   "cell_type": "code",
   "execution_count": null,
   "metadata": {},
   "outputs": [],
   "source": [
    "train_values[column].value_counts()[:10]"
   ]
  },
  {
   "cell_type": "code",
   "execution_count": null,
   "metadata": {},
   "outputs": [],
   "source": [
    "h = train_values[column].plot.hist(bins=train_values[column].nunique(), color = 'pink', figsize=(10,5), fontsize=14)\n",
    "h.set_title(f\"Histograma de '{column}' sobre {qty_buildings} edificaciones relevadas luego del terremoto Gorkha\", fontsize=16)\n",
    "h.set_xlabel(column, fontsize=14)\n",
    "h.set_ylabel(\"Frecuencia\", fontsize=14)"
   ]
  },
  {
   "cell_type": "code",
   "execution_count": null,
   "metadata": {},
   "outputs": [],
   "source": [
    "feature_damage['count_floors_pre_eq'].hist(bins=feature_damage['count_floors_pre_eq'].nunique(), figsize=(15,8))\n",
    "feature_damage['count_floors_pre_eq'].plot(kind='kde')"
   ]
  },
  {
   "cell_type": "code",
   "execution_count": null,
   "metadata": {},
   "outputs": [],
   "source": [
    "#red_square = dict(markerfacecolor='r', marker='s')\n",
    "feature_damage.boxplot(column = ['count_floors_pre_eq'], by='geo_level_1_id', figsize=(15,8), grid=False)\n"
   ]
  },
  {
   "cell_type": "code",
   "execution_count": null,
   "metadata": {},
   "outputs": [],
   "source": [
    "feature_damage['count_floors_pre_eq'].value_counts()"
   ]
  },
  {
   "cell_type": "code",
   "execution_count": null,
   "metadata": {},
   "outputs": [],
   "source": [
    "feature_damage['count_floors_pre_eq'].hist()"
   ]
  },
  {
   "cell_type": "code",
   "execution_count": null,
   "metadata": {},
   "outputs": [],
   "source": [
    "feature_damage['geo_level_1_id']"
   ]
  },
  {
   "cell_type": "code",
   "execution_count": null,
   "metadata": {},
   "outputs": [],
   "source": [
    "feature_damage['geo_level_1_id'].plot(kind='kde')"
   ]
  },
  {
   "cell_type": "code",
   "execution_count": null,
   "metadata": {},
   "outputs": [],
   "source": [
    "feature_damage['geo_level_1_id'].value_counts()[:10]"
   ]
  },
  {
   "cell_type": "code",
   "execution_count": null,
   "metadata": {},
   "outputs": [],
   "source": [
    "feature_damage['age'].hist(bins=100)\n",
    "plt.title(f'Histograma de {}')"
   ]
  },
  {
   "cell_type": "code",
   "execution_count": null,
   "metadata": {},
   "outputs": [],
   "source": [
    "feature_damage.boxplot(column = ['age'], by='geo_level_1_id', figsize=(15,10))"
   ]
  },
  {
   "cell_type": "code",
   "execution_count": null,
   "metadata": {},
   "outputs": [],
   "source": [
    "feature_damage.loc[feature_damage.age > 900]"
   ]
  },
  {
   "cell_type": "code",
   "execution_count": null,
   "metadata": {},
   "outputs": [],
   "source": [
    "feature_damage['age'].value_counts()"
   ]
  },
  {
   "cell_type": "code",
   "execution_count": null,
   "metadata": {},
   "outputs": [],
   "source": [
    "#for c in feature_damage.columns\n",
    "feature_damage['age'].value_counts().plot(kind='barh', figsize=(15, 10))\n",
    "#plt.figure(figsize=(1,1))\n",
    "#x = [1,2,3]"
   ]
  },
  {
   "cell_type": "code",
   "execution_count": null,
   "metadata": {},
   "outputs": [],
   "source": [
    "p = feature_damage.groupby(['count_floors_pre_eq'], as_index=False).agg({'building_id': 'count'}).rename(columns = {'building_id': 'count'})\n",
    "values = p['count_floors_pre_eq']\n",
    "count = p['count']\n",
    "#size = \n",
    "plt.scatter(x='count_floors_pre_eq', y='count', s=p['count'].values.tolist())"
   ]
  },
  {
   "cell_type": "code",
   "execution_count": null,
   "metadata": {},
   "outputs": [],
   "source": [
    "#for c in train_values\n",
    "\n",
    "feature_damage.boxplot(column=['count_floors_pre_eq', 'age'], by='damage_grade', return_type=None)\n"
   ]
  },
  {
   "cell_type": "code",
   "execution_count": null,
   "metadata": {},
   "outputs": [],
   "source": [
    "values = np.array(train_values.count_floors_pre_eq)\n",
    "values_unique, counts = np.unique(values, return_counts=True)\n",
    "\n",
    "ax2 = train_values.plot.scatter(x=values_unique,\n",
    "                      y=counts,\n",
    "                      c='species',\n",
    "                      colormap='viridis')"
   ]
  },
  {
   "cell_type": "code",
   "execution_count": null,
   "metadata": {},
   "outputs": [],
   "source": [
    "train_values.scatter()"
   ]
  },
  {
   "cell_type": "code",
   "execution_count": null,
   "metadata": {},
   "outputs": [],
   "source": [
    "train_values.boxplot(by='geo_level_1_id', column=['count_floors_pre_eq'])"
   ]
  },
  {
   "cell_type": "code",
   "execution_count": null,
   "metadata": {},
   "outputs": [],
   "source": [
    "values = np.array(train_values.count_floors_pre_eq)\n",
    "values_unique, counts = np.unique(values, return_counts=True)\n",
    "\n",
    "ax = train_values.count_floors_pre_eq.plot.box()"
   ]
  },
  {
   "cell_type": "code",
   "execution_count": null,
   "metadata": {},
   "outputs": [],
   "source": [
    "import seaborn as sns\n",
    "values = np.array(train_values.count_floors_pre_eq)\n",
    "values_unique, counts = np.unique(values, return_counts=True)\n",
    "\n",
    "sns.boxplot(train_values['count_floors_pre_eq'])"
   ]
  },
  {
   "cell_type": "code",
   "execution_count": null,
   "metadata": {},
   "outputs": [],
   "source": [
    "# box plot of the variable height\n",
    "ax = sns.boxplot(train_values.count_floors_pre_eq)\n",
    "\n",
    "# notation indicating an outlier\n",
    "ax.annotate('Outlier', xy=(190,0), xytext=(186,-0.05), fontsize=14,\n",
    "            arrowprops=dict(arrowstyle='->', ec='grey', lw=2), bbox = dict(boxstyle=\"round\", fc=\"0.8\"))\n",
    "\n",
    "# xtick, label, and title\n",
    "plt.xticks(fontsize=14)\n",
    "plt.xlabel('height', fontsize=14)\n",
    "plt.title('Distribution of height', fontsize=20)"
   ]
  },
  {
   "cell_type": "code",
   "execution_count": null,
   "metadata": {},
   "outputs": [],
   "source": [
    "ax = sns.scatterplot(x='height', y='weight', data=df_weight, s=50)"
   ]
  },
  {
   "cell_type": "code",
   "execution_count": null,
   "metadata": {},
   "outputs": [],
   "source": []
  },
  {
   "cell_type": "markdown",
   "metadata": {},
   "source": [
    "## Seleccionar columnas con tipo de dato categorico para parsear"
   ]
  },
  {
   "cell_type": "markdown",
   "metadata": {},
   "source": [
    "## Describe"
   ]
  },
  {
   "cell_type": "code",
   "execution_count": null,
   "metadata": {},
   "outputs": [],
   "source": [
    "train_values.describe()"
   ]
  },
  {
   "cell_type": "code",
   "execution_count": null,
   "metadata": {},
   "outputs": [],
   "source": [
    "import seaborn as sns"
   ]
  },
  {
   "cell_type": "markdown",
   "metadata": {},
   "source": [
    "### Distribucion normal -> la media y la mediana tienen casi el mismo valor"
   ]
  },
  {
   "cell_type": "code",
   "execution_count": null,
   "metadata": {},
   "outputs": [],
   "source": [
    "feature_damage.iloc[:, [1,2,3,-1]]"
   ]
  },
  {
   "cell_type": "code",
   "execution_count": null,
   "metadata": {},
   "outputs": [],
   "source": [
    "feature_damage.loc[(feature_damage.geo_level_1_id == 0) & (feature_damage.geo_level_2_id == 885) & (feature_damage.geo_level_3_id == 8209)].hist('damage_grade')"
   ]
  },
  {
   "cell_type": "code",
   "execution_count": null,
   "metadata": {},
   "outputs": [],
   "source": [
    "feature_damage.hist('geo_level_1_id')"
   ]
  },
  {
   "cell_type": "code",
   "execution_count": null,
   "metadata": {},
   "outputs": [],
   "source": [
    "#sns.pairplot(feature_damage.iloc[:, [1,2,3,-1]],\n",
    "sns.pairplot(feature_damage,\n",
    "             vars = feature_damage.iloc[:, 1:4],\n",
    "             hue='damage_grade',\n",
    "             diag_kind = 'hist', \n",
    "             plot_kws = {'alpha': 0.6, 's': 80, 'edgecolor': 'k'},\n",
    "             height=4\n",
    "            )"
   ]
  },
  {
   "cell_type": "code",
   "execution_count": null,
   "metadata": {},
   "outputs": [],
   "source": [
    "# Plot colored by continent for years 2000-2007\n",
    "sns.pairplot(df[df['year'] >= 2000], \n",
    "             vars = ['life_exp', 'log_pop', 'log_gdp_per_cap'], \n",
    "             hue = 'continent', diag_kind = 'kde', \n",
    "             plot_kws = {'alpha': 0.6, 's': 80, 'edgecolor': 'k'},\n",
    "             size = 4);\n",
    "# Title \n",
    "plt.suptitle('Pair Plot of Socioeconomic Data for 2000-2007', \n",
    "             size = 28);"
   ]
  },
  {
   "cell_type": "code",
   "execution_count": null,
   "metadata": {},
   "outputs": [],
   "source": [
    "for c in feature_damage.columns.tolist()[1:-1]:\n",
    "    print(f\"{c} vs damage_grade\")\n",
    "    sns.pairplot(feature_damage[['damage_grade', c]],\n",
    "                 hue='damage_grade',\n",
    "                 kind='hist'\n",
    "                )\n",
    "    plt.plot()"
   ]
  }
 ],
 "metadata": {
  "kernelspec": {
   "display_name": "gorkha-env",
   "language": "python",
   "name": "gorkha-env"
  },
  "language_info": {
   "codemirror_mode": {
    "name": "ipython",
    "version": 3
   },
   "file_extension": ".py",
   "mimetype": "text/x-python",
   "name": "python",
   "nbconvert_exporter": "python",
   "pygments_lexer": "ipython3",
   "version": "3.7.5"
  }
 },
 "nbformat": 4,
 "nbformat_minor": 4
}
